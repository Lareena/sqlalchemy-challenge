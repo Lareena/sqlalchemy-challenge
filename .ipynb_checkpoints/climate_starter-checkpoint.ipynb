{
 "cells": [
  {
   "cell_type": "markdown",
   "metadata": {},
   "source": [
    "# <b>HAWAIIAN VACATION WEATHER ANALYSIS<b>"
   ]
  },
  {
   "cell_type": "code",
   "execution_count": null,
   "metadata": {},
   "outputs": [],
   "source": [
    "%matplotlib inline\n",
    "from matplotlib import style\n",
    "style.use('fivethirtyeight')\n",
    "import matplotlib.pyplot as plt"
   ]
  },
  {
   "cell_type": "code",
   "execution_count": null,
   "metadata": {},
   "outputs": [],
   "source": [
    "import seaborn as sns\n",
    "import numpy as np\n",
    "import pandas as pd\n",
    "from scipy.stats import stats\n",
    "from statistics import mean"
   ]
  },
  {
   "cell_type": "code",
   "execution_count": null,
   "metadata": {},
   "outputs": [],
   "source": [
    "import datetime as dt"
   ]
  },
  {
   "cell_type": "markdown",
   "metadata": {},
   "source": [
    "# Reflect Tables into SQLAlchemy ORM"
   ]
  },
  {
   "cell_type": "code",
   "execution_count": null,
   "metadata": {},
   "outputs": [],
   "source": [
    "# Python SQL toolkit and Object Relational Mapper\n",
    "import sqlalchemy\n",
    "from sqlalchemy.ext.automap import automap_base\n",
    "from sqlalchemy.orm import Session\n",
    "from sqlalchemy import create_engine, func"
   ]
  },
  {
   "cell_type": "code",
   "execution_count": null,
   "metadata": {},
   "outputs": [],
   "source": [
    "engine = create_engine(\"sqlite:///Resources/hawaii.sqlite\")"
   ]
  },
  {
   "cell_type": "code",
   "execution_count": null,
   "metadata": {},
   "outputs": [],
   "source": [
    "# reflect an existing database into a new model\n",
    "Base = automap_base()\n",
    "# reflect the tables\n",
    "Base.prepare(engine, reflect=True)"
   ]
  },
  {
   "cell_type": "code",
   "execution_count": null,
   "metadata": {},
   "outputs": [],
   "source": [
    "# We can view all of the classes that automap found\n",
    "Base.classes.keys()"
   ]
  },
  {
   "cell_type": "code",
   "execution_count": null,
   "metadata": {},
   "outputs": [],
   "source": [
    "# Save references to each table\n",
    "Measurement = Base.classes.measurement\n",
    "Station = Base.classes.station"
   ]
  },
  {
   "cell_type": "code",
   "execution_count": null,
   "metadata": {},
   "outputs": [],
   "source": [
    "# Create our session (link) from Python to the DB\n",
    "session = Session(engine)\n",
    "conn = engine.connect()"
   ]
  },
  {
   "cell_type": "markdown",
   "metadata": {},
   "source": [
    "# Exploratory Climate Analysis"
   ]
  },
  {
   "cell_type": "code",
   "execution_count": null,
   "metadata": {},
   "outputs": [],
   "source": [
    "# Review the information in the Measurement table\n",
    "first_row = session.query(Measurement).first()\n",
    "# View the query object as a dictionary and view column names and values for a single row\n",
    "first_row.__dict__"
   ]
  },
  {
   "cell_type": "code",
   "execution_count": null,
   "metadata": {},
   "outputs": [],
   "source": [
    "# Review the information in the Station table\n",
    "first_row = session.query(Station).first()\n",
    "# View the query object as a dictionary and view column names and values for a single row\n",
    "first_row.__dict__"
   ]
  },
  {
   "cell_type": "code",
   "execution_count": null,
   "metadata": {},
   "outputs": [],
   "source": [
    "# Design a query to retrieve the last 12 months of precipitation data and plot the results\n",
    "# Calculate the date 1 year ago from the last data point in the database\n",
    "last_date = session.query(func.max(Measurement.date)).scalar()\n",
    "last_date\n",
    "\n",
    "query_date = dt.datetime.strptime(last_date, '%Y-%m-%d') - dt.timedelta(days=365)\n",
    "\n",
    "# Perform a query to retrieve the data and precipitation scores\n",
    "last_year = session.query(Measurement.date, Measurement.prcp).\\\n",
    "    filter(Measurement.date >= query_date).all()\n",
    "\n",
    "# Save the query results as a Pandas DataFrame and set the index to the date column\n",
    "df = pd.DataFrame(last_year)\n",
    "\n",
    "# Set the index to the date column\n",
    "df.set_index('date', inplace=True)\n",
    "\n",
    "# Rename the column\n",
    "df.rename(columns = {'prcp':'precipitation'}, inplace = True)\n",
    "\n",
    "# Sort the dataframe by date\n",
    "df.sort_index(inplace=True)\n",
    "\n"
   ]
  },
  {
   "cell_type": "code",
   "execution_count": null,
   "metadata": {},
   "outputs": [],
   "source": [
    "# Use Pandas Plotting with Matplotlib to plot the data\n",
    "ax3 = df.plot(figsize=(10,8))\n",
    "             \n",
    "# Suppress the xtick labels by passing an empty list (otherwise it is too crowded with so many dates)\n",
    "plt.xticks(ticks=[],labels=None)\n",
    "plt.savefig('Images/PandasPrecipitation.png')\n",
    "plt.show()"
   ]
  },
  {
   "cell_type": "code",
   "execution_count": null,
   "metadata": {},
   "outputs": [],
   "source": [
    "# Using the last date from above perform a query to retrieve the last 12 months of precipitation data\n",
    "# and the dates and save query results as a Pandas Dataframe - using sqlalchemy method to get data\n",
    "query_date = dt.datetime.strptime(last_date, '%Y-%m-%d') - dt.timedelta(days=365)\n",
    "\n",
    "# Generate a query object\n",
    "last_year = session.query(Measurement.date, Measurement.prcp).\\\n",
    "    filter(Measurement.date >= query_date).all()\n",
    "\n",
    "# Put query object results into a Pandas dataframe\n",
    "df = pd.DataFrame(last_year)\n",
    "\n",
    "# Set the index to the date column\n",
    "df.set_index('date', inplace=True)\n",
    "\n",
    "# Rename the column\n",
    "df.rename(columns = {'prcp':'precipitation'}, inplace = True) \n",
    "             \n",
    "# Sort the dataframe by date\n",
    "df.sort_index(inplace=True)\n",
    "\n",
    "# Plot the data using pandas.plot method\n",
    "ax3 = df.plot(figsize=(10,8))\n",
    "             \n",
    "# Suppress the xtick labels by passing an empty list (otherwise it is too crowded with so many dates)\n",
    "plt.xticks(ticks=[],labels=None)\n",
    "plt.savefig('Images/PandasPrecipitation.png')\n",
    "plt.show()"
   ]
  },
  {
   "cell_type": "code",
   "execution_count": null,
   "metadata": {},
   "outputs": [],
   "source": [
    "# Use Pandas to calcualte the summary statistics for the precipitation data\n",
    "df.describe()"
   ]
  },
  {
   "cell_type": "code",
   "execution_count": null,
   "metadata": {},
   "outputs": [],
   "source": [
    "# Design a query to show how many stations are available in this dataset?\n",
    "num_stations = session.query(Station.station).\\\n",
    "                             group_by(Station.station).count()\n",
    "print(f'The number of unique stations in this database is: {num_stations}')"
   ]
  },
  {
   "cell_type": "code",
   "execution_count": null,
   "metadata": {},
   "outputs": [],
   "source": [
    "# What are the most active stations? (i.e. what stations have the most rows)?\n",
    "# List the stations and the counts in descending order.\n",
    "most_active = session.query(Measurement.station,func.count(Measurement.station)).\\\n",
    "    filter(Station.station == Measurement.station).group_by(Measurement.station).\\\n",
    "    order_by(func.count(Station.station).desc()).all()\n",
    "print('The following stations have the most rows in desc order:')\n",
    "most_active"
   ]
  },
  {
   "cell_type": "code",
   "execution_count": null,
   "metadata": {},
   "outputs": [],
   "source": [
    "# Using the station id from the previous query, calculate the lowest temperature recorded, \n",
    "# highest temperature recorded, and average temperature of the most active station?\n",
    "low_hi_avg = session.query(func.min(Measurement.tobs),func.max(Measurement.tobs),\\\n",
    "    func.avg(Measurement.tobs)).filter(Measurement.station == 'USC00519281').first()\n",
    "low_hi_avg"
   ]
  },
  {
   "cell_type": "code",
   "execution_count": null,
   "metadata": {},
   "outputs": [],
   "source": [
    "# Get the last year of temperature observations (tobs) from the most active station and put into\n",
    "# a Pandas dataframe\n",
    "last_year_tobs = pd.read_sql(\"SELECT tobs FROM measurement where \\\n",
    "    station = 'USC00519281' AND date >= DATE('2017-08-23','-12 month')\", conn)\n",
    "#last_year_tobs"
   ]
  },
  {
   "cell_type": "code",
   "execution_count": null,
   "metadata": {},
   "outputs": [],
   "source": [
    "# Choose the station with the highest number of temperature observations.\n",
    "# Query the last 12 months of temperature observation data for this station and plot the results as a histogram\n",
    "# Choose the station with the highest number of temperature observations.\n",
    "# Query the last 12 months of temperature observation data for this station\n",
    "\n",
    "last_year_tobs = pd.read_sql(\"SELECT tobs FROM measurement where \\\n",
    "    station = 'USC00519281' AND date >= DATE('2017-08-23','-12 month')\", conn)\n",
    "\n",
    "# Plot the results as a histogram\n",
    "\n",
    "num_bins = 12\n",
    "fig, ax = plt.subplots(figsize=(10,7))\n",
    "\n",
    "n, bins, patches = ax.hist(last_year_tobs['tobs'], num_bins)\n",
    "\n",
    "ax.set_ylabel('Frequency')\n",
    "ax.legend(['tobs'],loc='best')\n",
    "\n",
    "plt.savefig('Images/Histogram.png')\n",
    "plt.show()"
   ]
  },
  {
   "cell_type": "markdown",
   "metadata": {},
   "source": [
    "# Bonus Challenge Assignment"
   ]
  },
  {
   "cell_type": "markdown",
   "metadata": {},
   "source": [
    "## Temperature Analysis I"
   ]
  },
  {
   "cell_type": "markdown",
   "metadata": {},
   "source": [
    "Hawaii is reputed to enjoy mild weather all year. Is there a meaningful difference between the temperature in, for example, June and December?"
   ]
  },
  {
   "cell_type": "code",
   "execution_count": null,
   "metadata": {},
   "outputs": [],
   "source": [
    "# Determine the average temperature for June\n",
    "june_temps = session.query(Measurement.tobs).\\\n",
    "        filter(Measurement.date.like(\"%-06-%\")).all()\n",
    "june_avg_temp = session.query(func.avg(Measurement.tobs)).\\\n",
    "        filter(Measurement.date.like(\"%-06-%\")).scalar()\n",
    "print(f\"Avg June temp for all stations and all years is: {round(june_avg_temp,2)} F\")"
   ]
  },
  {
   "cell_type": "code",
   "execution_count": null,
   "metadata": {},
   "outputs": [],
   "source": [
    "# Determine the average temperature for December\n",
    "dec_temps = session.query(Measurement.tobs).\\\n",
    "        filter(Measurement.date.like(\"%-12-%\")).all()\n",
    "dec_avg_temp = session.query(func.avg(Measurement.tobs)).\\\n",
    "        filter(Measurement.date.like(\"%-12-%\")).scalar()\n",
    "print(f\"Avg December temp for all stations and all years is: {round(dec_avg_temp,2)} F\")"
   ]
  },
  {
   "cell_type": "markdown",
   "metadata": {},
   "source": [
    "Use the t-test to determine whether the difference in the means, if any, is statistically significant. Will you use a paired t-test, or an unpaired t-test? Why?\n",
    "\n",
    "A paired t-test will be used because the same thing is being measured multiple times."
   ]
  },
  {
   "cell_type": "code",
   "execution_count": null,
   "metadata": {},
   "outputs": [],
   "source": [
    "\n",
    "# Generate function to do a t-test plot pair\n",
    "def ttestplot(pop1, pop2):\n",
    "    # Scatter Plot of Data\n",
    "    plt.subplot(2, 1, 1)\n",
    "    plt.scatter(range(len(pop1)), pop1, label=\"pop1\")\n",
    "    plt.scatter(range(len(pop2)), pop2, label=\"pop2\")\n",
    "    plt.legend()\n",
    "\n",
    "    # Histogram Plot of Data\n",
    "    plt.subplot(2, 1, 2)\n",
    "    plt.hist(pop1, 10, density=True, alpha=0.7, label=\"pop1\")\n",
    "    plt.hist(pop2, 10, density=True, alpha=0.7, label=\"pop2\")\n",
    "    plt.axvline(mean(pop1), color='k', linestyle='dashed', linewidth=1)\n",
    "    plt.axvline(mean(pop2), color='k', linestyle='dashed', linewidth=1)\n",
    "    plt.savefig('Images/ttest_plot.png')\n",
    "    plt.legend()"
   ]
  },
  {
   "cell_type": "code",
   "execution_count": null,
   "metadata": {},
   "outputs": [],
   "source": [
    "# Convert the list of tuples into a list for each observed month\n",
    "june_temp_list = [item for t in june_temps for item in t] \n",
    "dec_temp_list = [item for t in dec_temps for item in t]"
   ]
  },
  {
   "cell_type": "code",
   "execution_count": null,
   "metadata": {},
   "outputs": [],
   "source": [
    "# Call the ttestplot function to visualize the data\n",
    "ttestplot(june_temp_list,dec_temp_list)"
   ]
  },
  {
   "cell_type": "code",
   "execution_count": null,
   "metadata": {},
   "outputs": [],
   "source": [
    "# Run a t-test between the June temps and Dec temps\n",
    "stats.ttest_ind(june_temp_list,dec_temp_list, equal_var=False)"
   ]
  },
  {
   "cell_type": "markdown",
   "metadata": {},
   "source": [
    "The t-test has a large F statistic AND a VERY SMALL p value so the June and December average temperatures are statistically different from one another.¶"
   ]
  },
  {
   "cell_type": "markdown",
   "metadata": {},
   "source": [
    "## Temperature Analysis II"
   ]
  },
  {
   "cell_type": "markdown",
   "metadata": {},
   "source": [
    "Calculate the min, avg, and max temperatures for your trip using the matching dates from the previous year\n",
    "Plot the min, avg, and max temperature from your previous query as a bar chart.\n",
    "Use the average temperature as the bar height.\n",
    "Use the peak-to-peak (tmax-tmin) value as the y error bar (yerr)."
   ]
  },
  {
   "cell_type": "code",
   "execution_count": null,
   "metadata": {},
   "outputs": [],
   "source": [
    "# This function called `calc_temps` will accept start date and end date in the format '%Y-%m-%d' \n",
    "# and return the minimum, average, and maximum temperatures for that range of dates\n",
    "def calc_temps(start_date, end_date):\n",
    "    \"\"\"TMIN, TAVG, and TMAX for a list of dates.\n",
    "    \n",
    "    Args:\n",
    "        start_date (string): A date string in the format %Y-%m-%d\n",
    "        end_date (string): A date string in the format %Y-%m-%d\n",
    "        \n",
    "    Returns:\n",
    "        TMIN, TAVE, and TMAX\n",
    "    \"\"\"\n",
    "    \n",
    "    return session.query(func.min(Measurement.tobs), func.avg(Measurement.tobs), func.max(Measurement.tobs)).\\\n",
    "        filter(Measurement.date >= start_date).filter(Measurement.date <= end_date).all()\n",
    "\n",
    "# function usage example\n",
    "print(calc_temps('2010-02-28', '2010-03-05'))"
   ]
  },
  {
   "cell_type": "code",
   "execution_count": null,
   "metadata": {},
   "outputs": [],
   "source": [
    "# Use your previous function `calc_temps` to calculate the tmin, tavg, and tmax \n",
    "# for your trip using the previous year's data for those same dates.\n",
    "min_avg_max = calc_temps('2017-02-22', '2017-03-01')\n",
    "min_avg_max"
   ]
  },
  {
   "cell_type": "code",
   "execution_count": null,
   "metadata": {},
   "outputs": [],
   "source": [
    "#Store the information in a data frame\n",
    "trip_temp_df = pd.DataFrame(min_avg_max, columns=[\"Min Temp.\", \"Avg Temp.\", \"Max Temp.\"])\n",
    "trip_temp_df"
   ]
  },
  {
   "cell_type": "code",
   "execution_count": null,
   "metadata": {},
   "outputs": [],
   "source": [
    "# Plot the results from your previous query as a bar chart. \n",
    "# Use \"Trip Avg Temp\" as your Title\n",
    "# Use the average temperature for the y value\n",
    "# Use the peak-to-peak (tmax-tmin) value as the y error bar (yerr)\n",
    "\n",
    "#Calculate the error\n",
    "tmin = 61\n",
    "tmax = 69.7\n",
    "tavg = 77\n",
    "error = tmax-tmin\n",
    "\n",
    "# Plot the bar using the error\n",
    "fig, ax = plt.subplots(figsize=(5,8))\n",
    "ax.bar(1,tavg, yerr=error, align='center', alpha=0.5, ecolor='black', capsize=10)\n",
    "ax.set_ylabel('Temp (F)')\n",
    "ax.set_xticklabels([])\n",
    "ax.set_title('Trip Avg Temp')\n",
    "ax.yaxis.grid(True)\n",
    "\n",
    "# Save the figure and show\n",
    "plt.savefig('Images/bar_plot_with_error_bars.png')\n",
    "plt.show()"
   ]
  },
  {
   "cell_type": "markdown",
   "metadata": {},
   "source": [
    "## Daily Rainfall Average"
   ]
  },
  {
   "cell_type": "code",
   "execution_count": null,
   "metadata": {},
   "outputs": [],
   "source": [
    "# Calculate the total amount of rainfall per weather station for your trip dates using the previous year's matching dates.\n",
    "# Sort this in descending order by precipitation amount and list the station, name, latitude, longitude, and elevation\n",
    "\n",
    "rain_station = pd.read_sql(\"SELECT s.station,s.name,s.latitude,s.longitude,s.elevation,sum(m.prcp) as 'Total Rainfall'\\\n",
    "                            FROM station s\\\n",
    "                            JOIN measurement m ON(s.station = m.station)\\\n",
    "                            WHERE m.date BETWEEN '2017-02-22' AND '2017-03-01'\\\n",
    "                            GROUP BY s.station\\\n",
    "                            ORDER BY SUM(m.prcp) DESC\" , conn)\n",
    "rain_station.head(10)"
   ]
  },
  {
   "cell_type": "code",
   "execution_count": null,
   "metadata": {},
   "outputs": [],
   "source": [
    "# Create a query that will calculate the daily normals \n",
    "# (i.e. the averages for tmin, tmax, and tavg for all historic data matching a specific month and day)\n",
    "\n",
    "def daily_normals(date):\n",
    "    \"\"\"Daily Normals.\n",
    "    \n",
    "    Args:\n",
    "        date (str): A date string in the format '%m-%d'\n",
    "        \n",
    "    Returns:\n",
    "        A list of tuples containing the daily normals, tmin, tavg, and tmax\n",
    "    \n",
    "    \"\"\"\n",
    "    \n",
    "    sel = [func.min(Measurement.tobs), func.avg(Measurement.tobs), func.max(Measurement.tobs)]\n",
    "    return session.query(*sel).filter(func.strftime(\"%m-%d\", Measurement.date) == date).all()\n",
    "    \n",
    "daily_normals(\"01-01\")"
   ]
  },
  {
   "cell_type": "code",
   "execution_count": null,
   "metadata": {},
   "outputs": [],
   "source": [
    "# calculate the daily normals for your trip\n",
    "# trip dates \n",
    "trip_dates = ['02-22','02-23','02-24','02-25','02-26','02-27','02-28','03-01']\n",
    "\n",
    "\n",
    "# push each tuple of calculations into a list called `normals`\n",
    "normals =[]\n",
    "\n",
    "# Set the start and end date of the trip\n",
    "start_vacation = dt.date(2018,2,22)\n",
    "\n",
    "numdays = 8\n"
   ]
  },
  {
   "cell_type": "code",
   "execution_count": null,
   "metadata": {},
   "outputs": [],
   "source": [
    "# Strip off the year and save a list of %m-%d strings\n",
    "date_list = [str(start_vacation + dt.timedelta(days=x))[5:] for x in range(numdays)]\n",
    "print(date_list)"
   ]
  },
  {
   "cell_type": "code",
   "execution_count": null,
   "metadata": {},
   "outputs": [],
   "source": [
    "# Loop through the list of %m-%d strings and calculate the normals for each date\n",
    "normals = [daily_normals(month_day) for month_day in date_list]\n",
    "normals"
   ]
  },
  {
   "cell_type": "code",
   "execution_count": null,
   "metadata": {},
   "outputs": [],
   "source": [
    "# using list comprehension \n",
    "# convert list of tuples to list of list \n",
    "normals_list = [list(elements) for elements in normals]\n",
    "normals_list"
   ]
  },
  {
   "cell_type": "code",
   "execution_count": null,
   "metadata": {},
   "outputs": [],
   "source": [
    "#Load the list of daily normals into a Pandas DataFrame and set the index equal to the date.\n",
    "df = pd.DataFrame(normals_list,columns=['tmin','tavg','tmax']).rename_axis('date')\n",
    "df.head()\n"
   ]
  },
  {
   "cell_type": "code",
   "execution_count": null,
   "metadata": {},
   "outputs": [],
   "source": [
    "# Plot the daily normals as an area plot with `stacked=False`\n",
    "df.plot.area(stacked=False)\n",
    "plt.xlabel('Date')\n",
    "plt.ylabel('Temperature')\n",
    "plt.show()"
   ]
  }
 ],
 "metadata": {
  "kernel_info": {
   "name": "python3"
  },
  "kernelspec": {
   "display_name": "Python [conda env:PythonData] *",
   "language": "python",
   "name": "conda-env-PythonData-py"
  },
  "language_info": {
   "codemirror_mode": {
    "name": "ipython",
    "version": 3
   },
   "file_extension": ".py",
   "mimetype": "text/x-python",
   "name": "python",
   "nbconvert_exporter": "python",
   "pygments_lexer": "ipython3",
   "version": "3.6.10"
  },
  "nteract": {
   "version": "0.12.3"
  },
  "varInspector": {
   "cols": {
    "lenName": 16,
    "lenType": 16,
    "lenVar": 40
   },
   "kernels_config": {
    "python": {
     "delete_cmd_postfix": "",
     "delete_cmd_prefix": "del ",
     "library": "var_list.py",
     "varRefreshCmd": "print(var_dic_list())"
    },
    "r": {
     "delete_cmd_postfix": ") ",
     "delete_cmd_prefix": "rm(",
     "library": "var_list.r",
     "varRefreshCmd": "cat(var_dic_list()) "
    }
   },
   "types_to_exclude": [
    "module",
    "function",
    "builtin_function_or_method",
    "instance",
    "_Feature"
   ],
   "window_display": false
  }
 },
 "nbformat": 4,
 "nbformat_minor": 2
}
